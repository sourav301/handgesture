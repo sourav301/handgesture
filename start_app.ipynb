{
 "cells": [
  {
   "cell_type": "code",
   "execution_count": 20,
   "metadata": {
    "scrolled": false
   },
   "outputs": [
    {
     "name": "stderr",
     "output_type": "stream",
     "text": [
      "Exception in Tkinter callback\n",
      "Exception ignored in: <function PhotoImage.__del__ at 0x000002AE0313DF70>\n",
      "Traceback (most recent call last):\n",
      "  File \"C:\\Users\\SIBSANKAR\\anaconda3\\lib\\site-packages\\PIL\\ImageTk.py\", line 118, in __del__\n",
      "    name = self.__photo.name\n",
      "AttributeError: 'PhotoImage' object has no attribute '_PhotoImage__photo'\n",
      "Traceback (most recent call last):\n",
      "  File \"C:\\Users\\SIBSANKAR\\anaconda3\\lib\\tkinter\\__init__.py\", line 1883, in __call__\n",
      "    return self.func(*args)\n",
      "  File \"<ipython-input-20-b9e22d49202a>\", line 183, in predict\n",
      "    img = ImageTk.PhotoImage(image = PIL.Image.fromarray(frameCopy))\n",
      "  File \"C:\\Users\\SIBSANKAR\\anaconda3\\lib\\site-packages\\PIL\\ImageTk.py\", line 112, in __init__\n",
      "    self.__photo = tkinter.PhotoImage(**kw)\n",
      "  File \"C:\\Users\\SIBSANKAR\\anaconda3\\lib\\tkinter\\__init__.py\", line 4061, in __init__\n",
      "    Image.__init__(self, 'photo', name, cnf, master, **kw)\n",
      "  File \"C:\\Users\\SIBSANKAR\\anaconda3\\lib\\tkinter\\__init__.py\", line 3994, in __init__\n",
      "    raise RuntimeError('Too early to create image')\n",
      "RuntimeError: Too early to create image\n"
     ]
    }
   ],
   "source": [
    "# -*- coding: utf-8 -*-\n",
    "\"\"\"\n",
    "Created on Wed Dec 16 19:23:12 2020\n",
    "\n",
    "@author: SOURAV\n",
    "\"\"\" \n",
    "import PIL\n",
    "from PIL import ImageTk, Image\n",
    "from tkinter import *\n",
    "import tkinter \n",
    "import cv2 \n",
    "import os\n",
    "import time \n",
    "from matplotlib import pyplot as plt\n",
    "import numpy as np\n",
    "import pandas as pd\n",
    "from sklearn import svm\n",
    "\n",
    "\n",
    "protoFile = \"model\\\\pose_deploy.prototxt\"\n",
    "weightsFile = \"model\\\\pose_iter_102000.caffemodel\"\n",
    "\n",
    "nPoints = 21\n",
    "net = cv2.dnn.readNetFromCaffe(protoFile, weightsFile) \n",
    "net.setPreferableBackend(cv2.dnn.DNN_BACKEND_CUDA)\n",
    "net.setPreferableTarget(cv2.dnn.DNN_TARGET_CUDA)\n",
    "\n",
    "folderpath = \"images\"\n",
    "root = tkinter.Tk()\n",
    "root.geometry(\"500x500\")\n",
    "f = Frame()\n",
    "f.pack(side=BOTTOM)\n",
    "totalImages=5\n",
    " \n",
    "        \n",
    "def getMarkedImage(frame):\n",
    "    \n",
    "    scale_percent = 50 \n",
    "    width = int(frame.shape[1] * scale_percent / 100)\n",
    "    height = int(frame.shape[0] * scale_percent / 100) \n",
    "    dsize = (width, height) \n",
    "    frame = cv2.resize(frame, dsize)\n",
    "    \n",
    "    inHeight,inWidth,_ = frame.shape \n",
    "\n",
    "    inpBlob = cv2.dnn.blobFromImage(frame, 1.0 / 255, (inWidth, inHeight),\n",
    "                              (0, 0, 0), swapRB=False, crop=False)\n",
    "  \n",
    "    net.setInput(inpBlob)\n",
    "    \n",
    "    output = net.forward()\n",
    "    points = []\n",
    "    frameHeight,frameWidth,_=frame.shape\n",
    "    frameCopy=frame.copy()\n",
    "    threshold=.05\n",
    "    for i in range(nPoints):\n",
    "    # confidence map of corresponding body's part.\n",
    "        probMap = output[0, i, :, :]\n",
    "        probMap = cv2.resize(probMap, (frameWidth, frameHeight))\n",
    "    \n",
    "        # Find global maxima of the probMap.\n",
    "        minVal, prob, minLoc, point = cv2.minMaxLoc(probMap)\n",
    "    \n",
    "        if prob > threshold :\n",
    "            cv2.circle(frameCopy, (int(point[0]), int(point[1])), 5, (0, 255, 255), thickness=-1, lineType=cv2.FILLED)\n",
    "            cv2.putText(frameCopy, \"{}\".format(i), (int(point[0]), int(point[1])), cv2.FONT_HERSHEY_SIMPLEX, .5, (0, 0, 255), 1, lineType=cv2.LINE_AA)\n",
    "    \n",
    "            # Add the point to the list if the probability is greater than the threshold\n",
    "            points.append((int(point[0]), int(point[1])))\n",
    "        else :\n",
    "            points.append(None)\n",
    "    return frameCopy,points\n",
    "\n",
    "\n",
    "def captureImage():\n",
    "    i=1\n",
    "    vid = cv2.VideoCapture(0)\n",
    "    while i<=totalImages:\n",
    "        ret, frame = vid.read() \n",
    "        \n",
    "        f,p = getMarkedImage(frame.copy())\n",
    "        \n",
    "#         Display Pic\n",
    "        frameCopy = cv2.cvtColor(frame, cv2.COLOR_BGR2RGB)\n",
    "        img = ImageTk.PhotoImage(image = PIL.Image.fromarray(frameCopy))  \n",
    "        canvas.create_image(100,100, image=img) \n",
    "    \n",
    "        \n",
    "        folderName = os.path.join(folderpath,E1.get())\n",
    "        if not os.path.exists(folderName):\n",
    "            os.mkdir(folderName)\n",
    "        filename = os.path.join(folderName,str(i)+\".jpg\")\n",
    "        if p.count(None)==0:\n",
    "            cv2.imwrite(filename, frame)  \n",
    "            var.set(str(i)+\".jpg saved\")\n",
    "            i+=1\n",
    "        else:\n",
    "            var.set(\"None \"+str(p.count(None)))\n",
    "        root.update()\n",
    "        time.sleep(1)\n",
    "    vid.release() \n",
    "\n",
    "E1 = Entry(f)\n",
    "E1.delete(0,END)\n",
    "E1.insert(0,\"1\") \n",
    "E1.pack(side = LEFT)\n",
    "\n",
    "B = tkinter.Button(f, text =\"Capture\", command = captureImage)\n",
    "B.pack(side=LEFT)\n",
    "\n",
    "var = StringVar()\n",
    "var.set('Ready')\n",
    "L1 = Label(f,textvariable = var)\n",
    "L1.pack(side=LEFT)\n",
    "canvas = Canvas(root, width = 300, height = 300, bg=\"black\")      \n",
    "canvas.pack(side=TOP) \n",
    "\n",
    "\n",
    "\n",
    "def checkImage():\n",
    "    image_count=1\n",
    "    while image_count<=totalImages:   \n",
    "        folderName = os.path.join(folderpath,E1.get())\n",
    "        if not os.path.exists(folderName):\n",
    "            return\n",
    "        filename = os.path.join(folderName,str(image_count)+\".jpg\")  \n",
    "        # img = PIL.Image.open(filename)\n",
    "        # w,h = img.size \n",
    "        # img = ImageTk.PhotoImage(img.resize((w//2,h//2)) )  \n",
    "        \n",
    "        #Detect points \n",
    "        if not os.path.exists(filename):\n",
    "            print(filename,\"Does not exist\")\n",
    "            return None,None\n",
    "        frame = cv2.imread(filename)\n",
    "    \n",
    "        frame,p = getMarkedImage(frame) \n",
    "        displayPic(frame)\n",
    "        \n",
    "#         Display Pic\n",
    "        frameCopy = cv2.cvtColor(frame, cv2.COLOR_BGR2RGB)\n",
    "        img = ImageTk.PhotoImage(image = PIL.Image.fromarray(frameCopy))  \n",
    "        canvas.create_image(100,100, image=img) \n",
    "    \n",
    "        var.set(str(image_count)+\".jpg Displayed\") \n",
    "        image_count+=1\n",
    "        root.update() \n",
    "\n",
    "#Feature extraction\n",
    "def extractFeatures():\n",
    "    signs=['left','right']\n",
    "    features=None\n",
    "    output=[]\n",
    "    for s in signs:\n",
    "        folderName = os.path.join(folderpath,s)\n",
    "        for pic in os.listdir(folderName):\n",
    "            print(folderName,pic)\n",
    "            f,p = getMarkedImage(cv2.imread(os.path.join(folderName,pic)))\n",
    "            if features is None:\n",
    "                features =  np.expand_dims(np.array(p),axis=0)\n",
    "            else:\n",
    "                features =  np.concatenate((features,np.expand_dims(np.array(p),axis=0)),axis=0)\n",
    "            output.append(s)\n",
    "    np.save(\"data_features.npy\",features)\n",
    "    np.save(\"data_output.npy\",output)\n",
    "    \n",
    "    \n",
    "def predict():\n",
    "    f= np.load(\"data_features.npy\")\n",
    "    o= np.load(\"data_output.npy\") \n",
    "    f = f.reshape((len(o),-1))  \n",
    "    \n",
    "    clf = svm.SVC()\n",
    "    clf.fit(f, o)\n",
    "    vid = cv2.VideoCapture(0)\n",
    "    while True:\n",
    "        ret, frame = vid.read() \n",
    "        \n",
    "        f,p = getMarkedImage(frame.copy())\n",
    "        \n",
    "#         Display Pic\n",
    "        frameCopy = cv2.cvtColor(f, cv2.COLOR_BGR2RGB)\n",
    "        img = ImageTk.PhotoImage(image = PIL.Image.fromarray(frameCopy))  \n",
    "        canvas.create_image(200,200, image=img) \n",
    "     \n",
    "        if p.count(None)==0: \n",
    "            features = np.array(p)\n",
    "            features = features.reshape((1,-1))\n",
    "            var.set( \"Prediction = \"+clf.predict(features)[0]) \n",
    "        else:\n",
    "            var.set(\"None \"+str(p.count(None)))\n",
    "            \n",
    "        root.update()\n",
    "        time.sleep(1)\n",
    "    vid.release() \n",
    "    \n",
    "    \n",
    "\n",
    "B = tkinter.Button(f, text =\"Check\", command = checkImage)\n",
    "B.pack()\n",
    "\n",
    "C = tkinter.Button(f, text =\"Train\", command = extractFeatures)\n",
    "C.pack()\n",
    "\n",
    "\n",
    "D = tkinter.Button(f, text =\"Predict\", command = predict)\n",
    "D.pack()\n",
    "\n",
    "\n",
    "\n",
    "\n",
    "root.mainloop()"
   ]
  },
  {
   "cell_type": "code",
   "execution_count": 2,
   "metadata": {},
   "outputs": [],
   "source": [
    "frame = cv2.imread(\"images\\\\left\\\\4.jpg\")\n",
    "frame,p = getMarkedImage(frame)"
   ]
  },
  {
   "cell_type": "code",
   "execution_count": 12,
   "metadata": {},
   "outputs": [
    {
     "name": "stdout",
     "output_type": "stream",
     "text": [
      "(10, 42)\n",
      "['left' 'left' 'left' 'left' 'left' 'right' 'right' 'right' 'right'\n",
      " 'right']\n"
     ]
    }
   ],
   "source": [
    "f= np.load(\"data_features.npy\")\n",
    "f = f.reshape((10,-1))\n",
    "print(f.shape)\n",
    "o= np.load(\"data_output.npy\")\n",
    "print(o)"
   ]
  },
  {
   "cell_type": "code",
   "execution_count": 13,
   "metadata": {},
   "outputs": [
    {
     "data": {
      "text/plain": [
       "SVC()"
      ]
     },
     "execution_count": 13,
     "metadata": {},
     "output_type": "execute_result"
    }
   ],
   "source": [
    "from sklearn import svm\n",
    "clf = svm.SVC()\n",
    "clf.fit(f, o)"
   ]
  },
  {
   "cell_type": "code",
   "execution_count": 16,
   "metadata": {},
   "outputs": [
    {
     "data": {
      "text/plain": [
       "array(['left', 'left', 'left', 'left', 'left', 'right', 'right', 'right',\n",
       "       'right', 'right'], dtype='<U5')"
      ]
     },
     "execution_count": 16,
     "metadata": {},
     "output_type": "execute_result"
    }
   ],
   "source": [
    "clf.predict(f)"
   ]
  },
  {
   "cell_type": "code",
   "execution_count": 109,
   "metadata": {},
   "outputs": [
    {
     "data": {
      "text/plain": [
       "(2, 21, 2)"
      ]
     },
     "execution_count": 109,
     "metadata": {},
     "output_type": "execute_result"
    }
   ],
   "source": [
    "p\n",
    "q=p.copy()\n",
    "a = np.array(p)\n",
    "b = np.array(q)\n",
    "a = np.expand_dims(a,axis=0)\n",
    "b = np.expand_dims(b,axis=0)\n",
    "a = np.concatenate((a,b),axis=0)\n",
    "np.save('data.npy', a)\n",
    "a.shape"
   ]
  },
  {
   "cell_type": "code",
   "execution_count": 53,
   "metadata": {},
   "outputs": [],
   "source": [
    "import numpy as np\n",
    "\n",
    "a = np.array(p,dtype=(int,int))\n",
    "b = a-a[0]\n",
    "min,max = b.min(),b.max()\n",
    "b_normal = (b-min)/(max-min)"
   ]
  },
  {
   "cell_type": "code",
   "execution_count": 112,
   "metadata": {},
   "outputs": [
    {
     "ename": "TypeError",
     "evalue": "array() missing required argument 'object' (pos 1)",
     "output_type": "error",
     "traceback": [
      "\u001b[1;31m---------------------------------------------------------------------------\u001b[0m",
      "\u001b[1;31mTypeError\u001b[0m                                 Traceback (most recent call last)",
      "\u001b[1;32m<ipython-input-112-13c51707fc96>\u001b[0m in \u001b[0;36m<module>\u001b[1;34m\u001b[0m\n\u001b[1;32m----> 1\u001b[1;33m \u001b[0ma\u001b[0m \u001b[1;33m=\u001b[0m \u001b[0mnp\u001b[0m\u001b[1;33m.\u001b[0m\u001b[0marray\u001b[0m\u001b[1;33m(\u001b[0m\u001b[1;33m)\u001b[0m\u001b[1;33m\u001b[0m\u001b[1;33m\u001b[0m\u001b[0m\n\u001b[0m",
      "\u001b[1;31mTypeError\u001b[0m: array() missing required argument 'object' (pos 1)"
     ]
    }
   ],
   "source": [
    "a = np.array()"
   ]
  },
  {
   "cell_type": "code",
   "execution_count": 10,
   "metadata": {},
   "outputs": [
    {
     "ename": "ValueError",
     "evalue": "Object arrays cannot be loaded when allow_pickle=False",
     "output_type": "error",
     "traceback": [
      "\u001b[1;31m---------------------------------------------------------------------------\u001b[0m",
      "\u001b[1;31mValueError\u001b[0m                                Traceback (most recent call last)",
      "\u001b[1;32m<ipython-input-10-8b91682a1046>\u001b[0m in \u001b[0;36m<module>\u001b[1;34m\u001b[0m\n\u001b[1;32m----> 1\u001b[1;33m \u001b[0mdata\u001b[0m \u001b[1;33m=\u001b[0m \u001b[0mnp\u001b[0m\u001b[1;33m.\u001b[0m\u001b[0mload\u001b[0m\u001b[1;33m(\u001b[0m\u001b[1;34m'data.npy'\u001b[0m\u001b[1;33m)\u001b[0m\u001b[1;33m\u001b[0m\u001b[1;33m\u001b[0m\u001b[0m\n\u001b[0m\u001b[0;32m      2\u001b[0m \u001b[0mdata\u001b[0m \u001b[1;33m=\u001b[0m \u001b[0mdata\u001b[0m\u001b[1;33m.\u001b[0m\u001b[0mreshape\u001b[0m\u001b[1;33m(\u001b[0m\u001b[1;33m(\u001b[0m\u001b[1;33m-\u001b[0m\u001b[1;36m1\u001b[0m\u001b[1;33m,\u001b[0m\u001b[1;36m4\u001b[0m\u001b[1;33m)\u001b[0m\u001b[1;33m)\u001b[0m\u001b[1;33m\u001b[0m\u001b[1;33m\u001b[0m\u001b[0m\n",
      "\u001b[1;32m~\\anaconda3\\lib\\site-packages\\numpy\\lib\\npyio.py\u001b[0m in \u001b[0;36mload\u001b[1;34m(file, mmap_mode, allow_pickle, fix_imports, encoding)\u001b[0m\n\u001b[0;32m    437\u001b[0m                 \u001b[1;32mreturn\u001b[0m \u001b[0mformat\u001b[0m\u001b[1;33m.\u001b[0m\u001b[0mopen_memmap\u001b[0m\u001b[1;33m(\u001b[0m\u001b[0mfile\u001b[0m\u001b[1;33m,\u001b[0m \u001b[0mmode\u001b[0m\u001b[1;33m=\u001b[0m\u001b[0mmmap_mode\u001b[0m\u001b[1;33m)\u001b[0m\u001b[1;33m\u001b[0m\u001b[1;33m\u001b[0m\u001b[0m\n\u001b[0;32m    438\u001b[0m             \u001b[1;32melse\u001b[0m\u001b[1;33m:\u001b[0m\u001b[1;33m\u001b[0m\u001b[1;33m\u001b[0m\u001b[0m\n\u001b[1;32m--> 439\u001b[1;33m                 return format.read_array(fid, allow_pickle=allow_pickle,\n\u001b[0m\u001b[0;32m    440\u001b[0m                                          pickle_kwargs=pickle_kwargs)\n\u001b[0;32m    441\u001b[0m         \u001b[1;32melse\u001b[0m\u001b[1;33m:\u001b[0m\u001b[1;33m\u001b[0m\u001b[1;33m\u001b[0m\u001b[0m\n",
      "\u001b[1;32m~\\anaconda3\\lib\\site-packages\\numpy\\lib\\format.py\u001b[0m in \u001b[0;36mread_array\u001b[1;34m(fp, allow_pickle, pickle_kwargs)\u001b[0m\n\u001b[0;32m    725\u001b[0m         \u001b[1;31m# The array contained Python objects. We need to unpickle the data.\u001b[0m\u001b[1;33m\u001b[0m\u001b[1;33m\u001b[0m\u001b[1;33m\u001b[0m\u001b[0m\n\u001b[0;32m    726\u001b[0m         \u001b[1;32mif\u001b[0m \u001b[1;32mnot\u001b[0m \u001b[0mallow_pickle\u001b[0m\u001b[1;33m:\u001b[0m\u001b[1;33m\u001b[0m\u001b[1;33m\u001b[0m\u001b[0m\n\u001b[1;32m--> 727\u001b[1;33m             raise ValueError(\"Object arrays cannot be loaded when \"\n\u001b[0m\u001b[0;32m    728\u001b[0m                              \"allow_pickle=False\")\n\u001b[0;32m    729\u001b[0m         \u001b[1;32mif\u001b[0m \u001b[0mpickle_kwargs\u001b[0m \u001b[1;32mis\u001b[0m \u001b[1;32mNone\u001b[0m\u001b[1;33m:\u001b[0m\u001b[1;33m\u001b[0m\u001b[1;33m\u001b[0m\u001b[0m\n",
      "\u001b[1;31mValueError\u001b[0m: Object arrays cannot be loaded when allow_pickle=False"
     ]
    }
   ],
   "source": [
    "data = np.load('data.npy')\n",
    "data = data.reshape((-1,4))"
   ]
  },
  {
   "cell_type": "code",
   "execution_count": 62,
   "metadata": {},
   "outputs": [
    {
     "data": {
      "text/plain": [
       "array([[0.45933014, 0.45933014],\n",
       "       [0.54066986, 0.49760766],\n",
       "       [0.68899522, 0.49760766],\n",
       "       [0.80861244, 0.49760766],\n",
       "       [0.92344498, 0.50239234],\n",
       "       [0.73205742, 0.34449761],\n",
       "       [0.88038278, 0.26794258],\n",
       "       [0.92344498, 0.22966507],\n",
       "       [1.        , 0.15789474],\n",
       "       [0.68899522, 0.26794258],\n",
       "       [0.80382775, 0.15789474],\n",
       "       [0.88038278, 0.08133971],\n",
       "       [0.92344498, 0.00478469],\n",
       "       [0.61722488, 0.19617225],\n",
       "       [0.72727273, 0.11483254],\n",
       "       [0.77033493, 0.0430622 ],\n",
       "       [0.84210526, 0.        ],\n",
       "       [0.57416268, 0.15789474],\n",
       "       [0.61244019, 0.08133971],\n",
       "       [0.6507177 , 0.03827751],\n",
       "       [0.68899522, 0.        ]])"
      ]
     },
     "execution_count": 62,
     "metadata": {},
     "output_type": "execute_result"
    }
   ],
   "source": [
    "b_normal"
   ]
  },
  {
   "cell_type": "raw",
   "metadata": {},
   "source": [
    "import pandas as pd"
   ]
  },
  {
   "cell_type": "code",
   "execution_count": 69,
   "metadata": {},
   "outputs": [
    {
     "ename": "NameError",
     "evalue": "name 'pd' is not defined",
     "output_type": "error",
     "traceback": [
      "\u001b[1;31m---------------------------------------------------------------------------\u001b[0m",
      "\u001b[1;31mNameError\u001b[0m                                 Traceback (most recent call last)",
      "\u001b[1;32m<ipython-input-69-2337d7da5ae8>\u001b[0m in \u001b[0;36m<module>\u001b[1;34m\u001b[0m\n\u001b[1;32m----> 1\u001b[1;33m \u001b[0mpd\u001b[0m\u001b[1;33m\u001b[0m\u001b[1;33m\u001b[0m\u001b[0m\n\u001b[0m",
      "\u001b[1;31mNameError\u001b[0m: name 'pd' is not defined"
     ]
    }
   ],
   "source": [
    "pd\n"
   ]
  },
  {
   "cell_type": "code",
   "execution_count": null,
   "metadata": {},
   "outputs": [],
   "source": []
  }
 ],
 "metadata": {
  "kernelspec": {
   "display_name": "Python 3",
   "language": "python",
   "name": "python3"
  },
  "language_info": {
   "codemirror_mode": {
    "name": "ipython",
    "version": 3
   },
   "file_extension": ".py",
   "mimetype": "text/x-python",
   "name": "python",
   "nbconvert_exporter": "python",
   "pygments_lexer": "ipython3",
   "version": "3.8.5"
  }
 },
 "nbformat": 4,
 "nbformat_minor": 4
}
